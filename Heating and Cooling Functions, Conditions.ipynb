{
 "cells": [
  {
   "cell_type": "code",
   "execution_count": 5,
   "id": "bad5b835",
   "metadata": {},
   "outputs": [
    {
     "name": "stdout",
     "output_type": "stream",
     "text": [
      "Run A/C\n",
      "Run heat\n",
      "standby\n",
      "Run A/C\n",
      "Run heat\n",
      "standby\n",
      "32.0\n",
      "274.15\n",
      "45\n",
      "Please enter the current temp:75\n",
      "Please enter the desired temp:75\n",
      "standby\n"
     ]
    }
   ],
   "source": [
    "\n",
    "#a function that takes in the actual temperature and the desire temperature \n",
    "#and prints out either \"Run A/C\", \"Run heat\", or \"Standby\"\n",
    "\n",
    "def heating_cooling(actual_temp, desired_temp):\n",
    "    if actual_temp > desired_temp:\n",
    "        print(\"Run A/C\")\n",
    "    elif actual_temp < desired_temp:\n",
    "        print(\"Run heat\")\n",
    "    else:\n",
    "        print(\"standby\")\n",
    "#extended challenge function convert temp which takes a temperature in celsius and converts it to another unit of measure\n",
    "def convert_temp(temp_celsius, target_unit):\n",
    "    if target_unit == \"C\":\n",
    "        return temp_celsius\n",
    "    if target_unit == \"K\":\n",
    "        return temp_celsius + 273.15\n",
    "    if target_unit == \"F\":\n",
    "        return (9/5)*temp_celsius + 32\n",
    "        \n",
    "#testing function with different arguements\n",
    "\n",
    "heating_cooling(85,75)  #expected result is to print Run A/C\n",
    "heating_cooling(65, 72) #expected result is to print Run heat\n",
    "heating_cooling(70, 70) #expected result is to print Standby\n",
    "\n",
    "heating_cooling(90,74)  #expected result is to print Run A/C\n",
    "heating_cooling(56, 71) #expected result is to print Run heat\n",
    "heating_cooling(69, 69) #expected result is to print Standby\n",
    "\n",
    "#testing convert_temp\n",
    "print(convert_temp(0,\"F\")) #expected output is 32\n",
    "print(convert_temp(1,\"K\")) #expected output is 274.15\n",
    "print(convert_temp(45,\"C\")) #expected output is 45\n",
    "\n",
    "\n",
    "cTemp = int(input(\"Please enter the current temp:\"))  #asking the user for the current temp and assigning cTemp with that value\n",
    "dTemp = int(input(\"Please enter the desired temp:\")) #asking the user for the desired temp and assigning dTemp with that value\n",
    "heating_cooling(cTemp, dTemp)   #running the function with the inputed values"
   ]
  },
  {
   "cell_type": "code",
   "execution_count": null,
   "id": "4268fe13",
   "metadata": {},
   "outputs": [],
   "source": []
  }
 ],
 "metadata": {
  "kernelspec": {
   "display_name": "Python 3 (ipykernel)",
   "language": "python",
   "name": "python3"
  },
  "language_info": {
   "codemirror_mode": {
    "name": "ipython",
    "version": 3
   },
   "file_extension": ".py",
   "mimetype": "text/x-python",
   "name": "python",
   "nbconvert_exporter": "python",
   "pygments_lexer": "ipython3",
   "version": "3.11.7"
  }
 },
 "nbformat": 4,
 "nbformat_minor": 5
}
